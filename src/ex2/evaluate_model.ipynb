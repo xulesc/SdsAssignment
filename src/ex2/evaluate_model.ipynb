{
 "cells": [
  {
   "cell_type": "markdown",
   "metadata": {},
   "source": [
    "### Environment setup"
   ]
  },
  {
   "cell_type": "code",
   "execution_count": 17,
   "metadata": {},
   "outputs": [],
   "source": [
    "import pandas as pd\n",
    "from evaluate_model import Evaluator\n",
    "import seaborn as sns\n",
    "import matplotlib.pyplot as plt"
   ]
  },
  {
   "cell_type": "markdown",
   "metadata": {},
   "source": [
    "### Instantiate evaluator and run multiple times"
   ]
  },
  {
   "cell_type": "code",
   "execution_count": 10,
   "metadata": {},
   "outputs": [
    {
     "name": "stdout",
     "output_type": "stream",
     "text": [
      "Raw data size (600, 1501)\n"
     ]
    }
   ],
   "source": [
    "evaluator = Evaluator(\"../../data/raw/SemgHandGenderCh2.csv\")"
   ]
  },
  {
   "cell_type": "code",
   "execution_count": 11,
   "metadata": {},
   "outputs": [
    {
     "name": "stdout",
     "output_type": "stream",
     "text": [
      "Running Splitter\n",
      "Train set size: (450, 1500), Test set size: (150, 1500)\n",
      "Running Feature Selector\n",
      "Feature dimensions after selection: 450\n",
      "Building Model\n",
      "Classifier parameters: {'max_depth': None, 'max_features': 'sqrt', 'n_estimators': 100}\n",
      "Running Prediction for train Set\n",
      "Running Prediction for test Set\n",
      "Running Splitter\n",
      "Train set size: (450, 1500), Test set size: (150, 1500)\n",
      "Running Feature Selector\n",
      "Feature dimensions after selection: 450\n",
      "Building Model\n",
      "Classifier parameters: {'max_depth': None, 'max_features': 'sqrt', 'n_estimators': 100}\n",
      "Running Prediction for train Set\n",
      "Running Prediction for test Set\n",
      "Running Splitter\n",
      "Train set size: (450, 1500), Test set size: (150, 1500)\n",
      "Running Feature Selector\n",
      "Feature dimensions after selection: 450\n",
      "Building Model\n",
      "Classifier parameters: {'max_depth': None, 'max_features': 'sqrt', 'n_estimators': 100}\n",
      "Running Prediction for train Set\n",
      "Running Prediction for test Set\n",
      "Running Splitter\n",
      "Train set size: (450, 1500), Test set size: (150, 1500)\n",
      "Running Feature Selector\n",
      "Feature dimensions after selection: 450\n",
      "Building Model\n",
      "Classifier parameters: {'max_depth': None, 'max_features': 'sqrt', 'n_estimators': 100}\n",
      "Running Prediction for train Set\n",
      "Running Prediction for test Set\n",
      "Running Splitter\n",
      "Train set size: (450, 1500), Test set size: (150, 1500)\n",
      "Running Feature Selector\n",
      "Feature dimensions after selection: 450\n",
      "Building Model\n",
      "Classifier parameters: {'max_depth': None, 'max_features': 'sqrt', 'n_estimators': 100}\n",
      "Running Prediction for train Set\n",
      "Running Prediction for test Set\n",
      "Running Splitter\n",
      "Train set size: (450, 1500), Test set size: (150, 1500)\n",
      "Running Feature Selector\n",
      "Feature dimensions after selection: 450\n",
      "Building Model\n",
      "Classifier parameters: {'max_depth': None, 'max_features': 'sqrt', 'n_estimators': 50}\n",
      "Running Prediction for train Set\n",
      "Running Prediction for test Set\n",
      "Running Splitter\n",
      "Train set size: (450, 1500), Test set size: (150, 1500)\n",
      "Running Feature Selector\n",
      "Feature dimensions after selection: 450\n",
      "Building Model\n",
      "Classifier parameters: {'max_depth': None, 'max_features': 'sqrt', 'n_estimators': 50}\n",
      "Running Prediction for train Set\n",
      "Running Prediction for test Set\n",
      "Running Splitter\n",
      "Train set size: (450, 1500), Test set size: (150, 1500)\n",
      "Running Feature Selector\n",
      "Feature dimensions after selection: 450\n",
      "Building Model\n",
      "Classifier parameters: {'max_depth': None, 'max_features': 'sqrt', 'n_estimators': 50}\n",
      "Running Prediction for train Set\n",
      "Running Prediction for test Set\n",
      "Running Splitter\n",
      "Train set size: (450, 1500), Test set size: (150, 1500)\n",
      "Running Feature Selector\n",
      "Feature dimensions after selection: 450\n",
      "Building Model\n",
      "Classifier parameters: {'max_depth': None, 'max_features': 'sqrt', 'n_estimators': 50}\n",
      "Running Prediction for train Set\n",
      "Running Prediction for test Set\n",
      "Running Splitter\n",
      "Train set size: (450, 1500), Test set size: (150, 1500)\n",
      "Running Feature Selector\n",
      "Feature dimensions after selection: 450\n",
      "Building Model\n",
      "Classifier parameters: {'max_depth': None, 'max_features': 'sqrt', 'n_estimators': 100}\n",
      "Running Prediction for train Set\n",
      "Running Prediction for test Set\n"
     ]
    }
   ],
   "source": [
    "perf = [evaluator.evaluate() for _ in range(10)]\n",
    "perf_df = pd.concat(perf)"
   ]
  },
  {
   "cell_type": "markdown",
   "metadata": {},
   "source": [
    "### Visualize test performance results"
   ]
  },
  {
   "cell_type": "code",
   "execution_count": 22,
   "metadata": {},
   "outputs": [
    {
     "name": "stderr",
     "output_type": "stream",
     "text": [
      "/Users/anujsharma/Installs/miniconda3/envs/skysdsas/lib/python3.10/site-packages/seaborn/axisgrid.py:118: UserWarning: The figure layout has changed to tight\n",
      "  self._figure.tight_layout(*args, **kwargs)\n",
      "/var/folders/n1/jh932ln16_n9fr4df9q0vqdc0000gn/T/ipykernel_78178/727225494.py:13: UserWarning: The figure layout has changed to tight\n",
      "  catplot.fig.tight_layout()\n"
     ]
    },
    {
     "data": {
      "image/png": "[encoded data removed]",
      "text/plain": [
       "<Figure size 800x400 with 1 Axes>"
      ]
     },
     "metadata": {},
     "output_type": "display_data"
    }
   ],
   "source": [
    "sns.set_style(\"ticks\",{'axes.grid' : True})\n",
    "catplot = sns.catplot(\n",
    "    data=perf_df[perf_df.data=='test'].melt(id_vars=['data'], var_name='features'),\n",
    "    x='features',\n",
    "    y='value',\n",
    "    kind='box',\n",
    "    height=4, aspect=8/4\n",
    ")\n",
    "_ = catplot.set(ylim=(0, 1.0))\n",
    "_ = catplot.set_xlabels(\"\")\n",
    "_ = catplot.set_ylabels(\"\")\n",
    "_ = catplot.fig.suptitle('Classifier performance on test set')\n",
    "catplot.fig.tight_layout()"
   ]
  },
  {
   "cell_type": "code",
   "execution_count": null,
   "metadata": {},
   "outputs": [],
   "source": []
  },
  {
   "cell_type": "code",
   "execution_count": null,
   "metadata": {},
   "outputs": [],
   "source": []
  },
  {
   "cell_type": "code",
   "execution_count": 13,
   "metadata": {},
   "outputs": [],
   "source": [
    "# Workbench\n",
    "\n",
    "# import utils\n",
    "# data_df = pd.read_csv('../../data/raw/SemgHandGenderCh2.csv')\n",
    "\n",
    "# #  Train-test split\n",
    "# print('Running Splitter')\n",
    "# X_train, X_test, y_train, y_test = utils.Splitter().split(data_df)\n",
    "# print(f\"Train set size: {X_train.shape}, Test set size: {X_test.shape}\")\n",
    "\n",
    "# # Feature selection\n",
    "# print('Running Feature Selector')\n",
    "# fs = utils.FeatureSelector()\n",
    "# X_train_embedded = fs.fit_transform(X_train)\n",
    "# X_test_embedded = fs.transform(X_test)\n",
    "# print(f\"Feature dimensions after selection: {X_train_embedded.shape[1]}\")\n",
    "\n",
    "# train_df = pd.DataFrame(X_train)\n",
    "# train_df['y'] = y_train\n",
    "# sns.heatmap(train_df.corr())"
   ]
  }
 ],
 "metadata": {
  "kernelspec": {
   "display_name": "base",
   "language": "python",
   "name": "python3"
  },
  "language_info": {
   "codemirror_mode": {
    "name": "ipython",
    "version": 3
   },
   "file_extension": ".py",
   "mimetype": "text/x-python",
   "name": "python",
   "nbconvert_exporter": "python",
   "pygments_lexer": "ipython3",
   "version": "3.10.12"
  },
  "orig_nbformat": 4
 },
 "nbformat": 4,
 "nbformat_minor": 2
}
