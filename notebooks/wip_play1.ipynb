{
 "cells": [
  {
   "cell_type": "code",
   "execution_count": null,
   "metadata": {},
   "outputs": [],
   "source": [
    "import pandas as pd\n",
    "import pickle\n",
    "import matplotlib.pyplot as plt\n",
    "from scipy.signal import detrend\n",
    "import seaborn as sns\n",
    "from dtaidistance import dtw\n",
    "import numpy as np\n",
    "from itertools import combinations\n",
    "\n"
   ]
  },
  {
   "cell_type": "code",
   "execution_count": null,
   "metadata": {},
   "outputs": [],
   "source": [
    "file = open('../data/raw/timeseries_samples.pickle', 'rb')\n",
    "data = pickle.load(file)"
   ]
  },
  {
   "cell_type": "code",
   "execution_count": null,
   "metadata": {},
   "outputs": [],
   "source": [
    "# scale\n",
    "for k, v in data.items():\n",
    "    v.value = (v.value - v.value.mean()) / v.value.std()\n",
    "\n",
    "# detrend\n",
    "\n",
    "for k, v in data.items():\n",
    "    v.value = detrend(v.value)\n",
    "\n",
    "# smooth\n",
    "\n",
    "for k, v in data.items():\n",
    "    v = v.rolling(5).mean()"
   ]
  },
  {
   "cell_type": "code",
   "execution_count": null,
   "metadata": {},
   "outputs": [],
   "source": [
    "data_df = pd.concat(data.values(), axis=1)\n",
    "data_df.columns = data.keys()"
   ]
  },
  {
   "cell_type": "code",
   "execution_count": null,
   "metadata": {},
   "outputs": [],
   "source": [
    "data_df['freq_5min'] = data_df.reset_index()['datetime'].apply(lambda x: x.to_period('5min')).values\n",
    "data_df['freq_hour'] = data_df.reset_index()['datetime'].apply(lambda x: x.to_period('H')).values\n",
    "data_df['freq_date'] = data_df.reset_index()['datetime'].apply(lambda x: x.to_period('D')).values\n",
    "data_df['freq_week'] = data_df.reset_index()['datetime'].apply(lambda x: x.to_period('W')).values\n",
    "data_df['freq_month'] = data_df.reset_index()['datetime'].apply(lambda x: x.to_period('M')).values"
   ]
  },
  {
   "cell_type": "code",
   "execution_count": null,
   "metadata": {},
   "outputs": [],
   "source": [
    "data_df.head()"
   ]
  },
  {
   "cell_type": "code",
   "execution_count": null,
   "metadata": {},
   "outputs": [],
   "source": [
    "data_df.groupby('freq_month').mean().plot()\n",
    "# data_df[data.keys()].plot(subplots=True, layout=(2, 5), figsize=(12, 8))\n",
    "# sns.lineplot(data_df.groupby('freq_month').mean())"
   ]
  },
  {
   "cell_type": "code",
   "execution_count": null,
   "metadata": {},
   "outputs": [],
   "source": [
    "data_df.groupby('freq_week').mean().plot()"
   ]
  },
  {
   "cell_type": "code",
   "execution_count": null,
   "metadata": {},
   "outputs": [],
   "source": [
    "data_df.groupby('freq_week').mean().plot()"
   ]
  },
  {
   "cell_type": "code",
   "execution_count": null,
   "metadata": {},
   "outputs": [],
   "source": [
    "data_df.groupby('freq_date').mean().plot()"
   ]
  },
  {
   "cell_type": "code",
   "execution_count": null,
   "metadata": {},
   "outputs": [],
   "source": [
    "distances = []\n",
    "for device1, device2 in list(combinations(data.keys(), 2)):\n",
    "    _df = data_df.groupby('freq_month').median()[[device1, device2]].dropna()\n",
    "    # print(_df.shape)\n",
    "    distance = dtw.distance_fast(_df[device1].values, _df[device2].values, use_pruning=True)\n",
    "    distances.extend(((device1, device2, distance), (device2, device1, distance)))\n",
    "distances.extend((device1, device1, 1e-10) for device1 in data.keys())"
   ]
  },
  {
   "cell_type": "code",
   "execution_count": null,
   "metadata": {},
   "outputs": [],
   "source": [
    "pd.DataFrame(distances, columns=['device1', 'device2', 'dta_distance']).dta_distance.describe()"
   ]
  },
  {
   "cell_type": "code",
   "execution_count": null,
   "metadata": {},
   "outputs": [],
   "source": [
    "pd.DataFrame(distances, columns=['device1', 'device2', 'dta_distance']).pivot(index='device1', columns=['device2'], values=['dta_distance'])"
   ]
  },
  {
   "cell_type": "code",
   "execution_count": null,
   "metadata": {},
   "outputs": [],
   "source": [
    "from dtaidistance import dtw_visualisation as dtwvis\n",
    "\n",
    "x = data_df.groupby('freq_date').mean()[['device_0', 'device_2']].dropna()\n",
    "\n",
    "fig, ax = plt.subplots(2,1)#,figsize=(1280/96, 720/96))\n",
    "path = dtw.warping_path(x['device_0'].values, x['device_2'].values)\n",
    "dtwvis.plot_warping(x['device_0'].values, x['device_2'].values, path, \n",
    "                    fig=fig, axs=ax)\n",
    "# ax[0].set_title('DTW Warping Path Between Brazil and India')\n",
    "fig.tight_layout()"
   ]
  },
  {
   "cell_type": "code",
   "execution_count": null,
   "metadata": {},
   "outputs": [],
   "source": [
    "data_df.groupby('freq_date')[['device_0', 'device_1', ]].mean()"
   ]
  },
  {
   "cell_type": "code",
   "execution_count": null,
   "metadata": {},
   "outputs": [],
   "source": [
    "from sklearn.cluster import SpectralClustering"
   ]
  },
  {
   "cell_type": "code",
   "execution_count": null,
   "metadata": {},
   "outputs": [],
   "source": [
    "clustering = SpectralClustering(n_clusters=2, assign_labels='discretize', affinity='precomputed_nearest_neighbors')"
   ]
  },
  {
   "cell_type": "code",
   "execution_count": null,
   "metadata": {},
   "outputs": [],
   "source": [
    "from scipy.sparse import csr_matrix\n",
    "labels = clustering.fit_predict(\n",
    "        pd.DataFrame(distances, columns=['device1', 'device2', 'dta_distance']).pivot(index='device1', columns=['device2'], values=['dta_distance']).values\n",
    ")\n",
    "labels"
   ]
  },
  {
   "cell_type": "code",
   "execution_count": null,
   "metadata": {},
   "outputs": [],
   "source": [
    "# from sklearn.metrics import silhouette_score"
   ]
  },
  {
   "cell_type": "code",
   "execution_count": null,
   "metadata": {},
   "outputs": [],
   "source": [
    "# vs = []\n",
    "# for k, v in data.items():\n",
    "#     v['device'] = k\n",
    "#     vs.append(v)\n",
    "\n",
    "# x = pd.concat(vs)\n",
    "# x.head()\n",
    "\n",
    "# from tsfresh import extract_features\n",
    "# from tsfresh.feature_extraction import MinimalFCParameters\n",
    "\n",
    "# df = x.reset_index()\n",
    "# extracted_features = extract_features(df, column_id='device', column_sort='datetime',\n",
    "#                                       default_fc_parameters=MinimalFCParameters())\n",
    "\n",
    "# silhouette_score(extracted_features, labels)"
   ]
  },
  {
   "cell_type": "code",
   "execution_count": null,
   "metadata": {},
   "outputs": [],
   "source": [
    "# from sklearn.cluster import KMeans\n",
    "# KMeans(2).fit_predict(extracted_features)"
   ]
  },
  {
   "cell_type": "code",
   "execution_count": null,
   "metadata": {},
   "outputs": [],
   "source": []
  },
  {
   "cell_type": "code",
   "execution_count": null,
   "metadata": {},
   "outputs": [],
   "source": [
    "# vs = []\n",
    "# for k, v in data.items():\n",
    "#     v['device'] = k\n",
    "#     vs.append(v)"
   ]
  },
  {
   "cell_type": "code",
   "execution_count": null,
   "metadata": {},
   "outputs": [],
   "source": [
    "# x = pd.concat(vs)\n",
    "# x.head()"
   ]
  },
  {
   "cell_type": "code",
   "execution_count": null,
   "metadata": {},
   "outputs": [],
   "source": [
    "# from tsfresh import extract_features\n",
    "# from tsfresh.feature_extraction import MinimalFCParameters\n",
    "\n",
    "# df = x.reset_index()\n",
    "# extracted_features = extract_features(df, column_id='device', column_sort='datetime',\n",
    "#                                       default_fc_parameters=MinimalFCParameters())"
   ]
  },
  {
   "cell_type": "code",
   "execution_count": null,
   "metadata": {},
   "outputs": [],
   "source": [
    "# extracted_features"
   ]
  },
  {
   "cell_type": "code",
   "execution_count": null,
   "metadata": {},
   "outputs": [],
   "source": [
    "# from sklearn.cluster import DBSCAN\n",
    "# from sklearn.preprocessing import StandardScaler\n",
    "\n",
    "# # prep = StandardScaler()\n",
    "# kmeans = DBSCAN(eps=3, min_samples=2)\n",
    "\n",
    "# # scaled_data = prep.fit_transform(extracted_features)\n",
    "# # kmeans.fit(scaled_data)"
   ]
  },
  {
   "cell_type": "code",
   "execution_count": null,
   "metadata": {},
   "outputs": [],
   "source": [
    "# scaled_data = prep.fit_transform(extracted_features)"
   ]
  },
  {
   "cell_type": "code",
   "execution_count": null,
   "metadata": {},
   "outputs": [],
   "source": [
    "# kmeans.fit(extracted_features.values)"
   ]
  },
  {
   "cell_type": "code",
   "execution_count": null,
   "metadata": {},
   "outputs": [],
   "source": [
    "# # pd.DataFrame(distances, columns=['device1', 'device2', 'dta_distance']).pivot(index='device1', columns=['device2'], values=['dta_distance']).sparse.to_coo()\n",
    "# x = pd.DataFrame(distances, columns=['device1', 'device2', 'dta_distance']).pivot(index='device1', columns=['device2'], values=['dta_distance']).fillna(0)\n",
    "# sparse_df = x.astype(pd.SparseDtype(\"float64\",0))\n",
    "# clustering.fit(sparse_df.sparse.to_coo().tocsr())"
   ]
  },
  {
   "cell_type": "code",
   "execution_count": null,
   "metadata": {},
   "outputs": [],
   "source": [
    "# ## Dynamic time warping\n",
    "\n",
    "# for k, v in data.items():\n",
    "#     for k1, v1 in data.items():\n",
    "#         print(k, k1, dtw.distance_fast(v.value.values, v1.value.values, use_pruning=True))"
   ]
  },
  {
   "cell_type": "code",
   "execution_count": null,
   "metadata": {},
   "outputs": [],
   "source": [
    "# from statsmodels.tsa import stattools\n",
    "# from statsmodels.tsa import seasonal"
   ]
  },
  {
   "cell_type": "code",
   "execution_count": null,
   "metadata": {},
   "outputs": [],
   "source": [
    "# x = data_df[['freq_date', 'device_0']].set_index('freq_date')\n",
    "# x.index = x.index.to_timestamp()\n",
    "# s = seasonal.seasonal_decompose(x.dropna(), period=1)"
   ]
  },
  {
   "cell_type": "code",
   "execution_count": null,
   "metadata": {},
   "outputs": [],
   "source": [
    "# s.seasonal.plot()"
   ]
  },
  {
   "cell_type": "code",
   "execution_count": null,
   "metadata": {},
   "outputs": [],
   "source": [
    "# for k, v in data.items():\n",
    "#     print(k, len(v))\n",
    "#     v['freq_5min'] = v.reset_index()['datetime'].apply(lambda x: str(x.to_period('5min'))).values\n",
    "#     v['freq_hour'] = v.reset_index()['datetime'].apply(lambda x: str(x.to_period('H'))).values\n",
    "#     v['freq_date'] = v.reset_index()['datetime'].apply(lambda x: str(x.to_period('D'))).values\n",
    "#     v['freq_week'] = v.reset_index()['datetime'].apply(lambda x: str(x.to_period('W'))).values\n",
    "#     v['freq_month'] = v.reset_index()['datetime'].apply(lambda x: str(x.to_period('M'))).values"
   ]
  },
  {
   "cell_type": "code",
   "execution_count": null,
   "metadata": {},
   "outputs": [],
   "source": [
    "# data['device_0']"
   ]
  },
  {
   "cell_type": "code",
   "execution_count": null,
   "metadata": {},
   "outputs": [],
   "source": [
    "# data_freq_5min = [\n",
    "#     v[['freq_5min', 'value']].groupby('freq_5min').mean()\n",
    "#     for k, v in data.items()\n",
    "# ]\n"
   ]
  },
  {
   "cell_type": "code",
   "execution_count": null,
   "metadata": {},
   "outputs": [],
   "source": [
    "# x = pd.concat(data.values(), axis=1)\n",
    "# # x.columns = [f\"device_{x}\" for x in range(10)]\n",
    "# x"
   ]
  },
  {
   "cell_type": "code",
   "execution_count": null,
   "metadata": {},
   "outputs": [],
   "source": [
    "# x.device_3.plot()"
   ]
  },
  {
   "cell_type": "code",
   "execution_count": null,
   "metadata": {},
   "outputs": [],
   "source": [
    "# ## prepare data\n",
    "\n",
    "# vs = []\n",
    "# for k, v in data.items():\n",
    "#     _v = v.reset_index()\n",
    "#     _v.datetime = _v.datetime.round('1s')\n",
    "#     _v.set_index('datetime', inplace=True)\n",
    "#     v = _v\n"
   ]
  },
  {
   "cell_type": "code",
   "execution_count": null,
   "metadata": {},
   "outputs": [],
   "source": [
    "# x = pd.concat(vs, axis=1)\n",
    "# x.columns = data.keys()"
   ]
  },
  {
   "cell_type": "code",
   "execution_count": null,
   "metadata": {},
   "outputs": [],
   "source": [
    "# fig, ax = plt.subplots(figsize = (12, 6))\n",
    "\n",
    "# for k, v in data.items():\n",
    "#     ax.plot(v, alpha=0.5)"
   ]
  },
  {
   "cell_type": "code",
   "execution_count": null,
   "metadata": {},
   "outputs": [],
   "source": [
    "# ## scale data\n",
    "\n",
    "# for k, v in data.items():\n",
    "#     v.value = (v.value - v.value.mean()) / v.value.std()"
   ]
  },
  {
   "cell_type": "code",
   "execution_count": null,
   "metadata": {},
   "outputs": [],
   "source": [
    "# ## detrending\n",
    "\n",
    "# from scipy.signal import detrend\n",
    "\n",
    "# for k, v in data.items():\n",
    "#     v.value = detrend(v.value)"
   ]
  },
  {
   "cell_type": "code",
   "execution_count": null,
   "metadata": {},
   "outputs": [],
   "source": [
    "# ## smooth\n",
    "\n",
    "# for k, v in data.items():\n",
    "#     v = v.rolling(5).mean().dropna()"
   ]
  },
  {
   "cell_type": "code",
   "execution_count": null,
   "metadata": {},
   "outputs": [],
   "source": [
    "# fig, ax = plt.subplots(figsize = (12, 6))\n",
    "\n",
    "# for k, v in data.items():\n",
    "#     ax.plot(v, alpha=0.5)"
   ]
  },
  {
   "cell_type": "code",
   "execution_count": null,
   "metadata": {},
   "outputs": [],
   "source": [
    "# ## Euclidean distance\n",
    "# from scipy.spatial import distance\n",
    "\n",
    "# for k, v in data.items():\n",
    "#     for k1, v1 in data.items():\n",
    "#         print(k, k1, distance.cdist(v.value.values.reshape(-1, 1), v1.value.values.reshape(-1, 1)))"
   ]
  },
  {
   "cell_type": "code",
   "execution_count": null,
   "metadata": {},
   "outputs": [],
   "source": [
    "# ## Dynamic time warping\n",
    "\n",
    "# from dtaidistance import dtw\n",
    "# import numpy as np\n",
    "\n",
    "# for k, v in data.items():\n",
    "#     for k1, v1 in data.items():\n",
    "#         print(k, k1, dtw.distance_fast(v.value.values, v1.value.values, use_pruning=True))\n"
   ]
  },
  {
   "cell_type": "code",
   "execution_count": null,
   "metadata": {},
   "outputs": [],
   "source": []
  }
 ],
 "metadata": {
  "kernelspec": {
   "display_name": "base",
   "language": "python",
   "name": "python3"
  },
  "language_info": {
   "codemirror_mode": {
    "name": "ipython",
    "version": 3
   },
   "file_extension": ".py",
   "mimetype": "text/x-python",
   "name": "python",
   "nbconvert_exporter": "python",
   "pygments_lexer": "ipython3",
   "version": "3.10.10"
  },
  "orig_nbformat": 4
 },
 "nbformat": 4,
 "nbformat_minor": 2
}
